{
 "cells": [
  {
   "cell_type": "markdown",
   "id": "6e788a21",
   "metadata": {},
   "source": [
    "## Test Stem Question Calssification\n",
    "\n",
    "Load test data"
   ]
  },
  {
   "cell_type": "code",
   "execution_count": 1,
   "id": "1e544393",
   "metadata": {},
   "outputs": [],
   "source": [
    "# some_file.py\n",
    "import sys\n",
    "# caution: path[0] is reserved for script path (or '' in REPL)\n",
    "sys.path.insert(1, '/Users/jahan/workspace/stem_parser/src')\n",
    "\n",
    "import helper"
   ]
  },
  {
   "cell_type": "code",
   "execution_count": 44,
   "id": "fd73148f",
   "metadata": {},
   "outputs": [],
   "source": [
    "import random\n",
    "import fasttext\n",
    "from sklearn.metrics import confusion_matrix"
   ]
  },
  {
   "cell_type": "code",
   "execution_count": 4,
   "id": "b3a738af",
   "metadata": {},
   "outputs": [],
   "source": [
    "math_fn = '../data/math_test.txt'\n",
    "phys_fn = '../data/phys_test.txt'\n",
    "chem_fn = '../data/chem_test.txt'\n",
    "\n",
    "filenames = {'math': math_fn, 'phys': phys_fn, 'chem': chem_fn}"
   ]
  },
  {
   "cell_type": "code",
   "execution_count": 5,
   "id": "5472156c",
   "metadata": {},
   "outputs": [],
   "source": [
    "# Load files\n",
    "raw_data_test = []\n",
    "for label, fn in filenames.items():\n",
    "    data = helper.load_data(fn, label)\n",
    "    raw_data_test += data"
   ]
  },
  {
   "cell_type": "code",
   "execution_count": 6,
   "id": "403e97f7",
   "metadata": {},
   "outputs": [
    {
     "data": {
      "text/plain": [
       "63"
      ]
     },
     "execution_count": 6,
     "metadata": {},
     "output_type": "execute_result"
    }
   ],
   "source": [
    "len(raw_data_test)"
   ]
  },
  {
   "cell_type": "code",
   "execution_count": 7,
   "id": "5fafbce0",
   "metadata": {},
   "outputs": [
    {
     "data": {
      "text/plain": [
       "('6.334 * 104 = 0.0006334 0.06334 6334 63340 633400', 'math')"
      ]
     },
     "execution_count": 7,
     "metadata": {},
     "output_type": "execute_result"
    }
   ],
   "source": [
    "raw_data_test[0]"
   ]
  },
  {
   "cell_type": "code",
   "execution_count": 9,
   "id": "8ecd1eb8",
   "metadata": {},
   "outputs": [],
   "source": [
    "random.shuffle(raw_data_test)"
   ]
  },
  {
   "cell_type": "markdown",
   "id": "03b5e24b",
   "metadata": {},
   "source": [
    "## Train model"
   ]
  },
  {
   "cell_type": "code",
   "execution_count": 10,
   "id": "9ffdf803",
   "metadata": {},
   "outputs": [],
   "source": [
    "def load_train_data(filenames):\n",
    "    # Load files\n",
    "    raw_data = []\n",
    "    for label, fn in filenames.items():\n",
    "        data = helper.load_data(fn, label)\n",
    "        raw_data += data\n",
    "\n",
    "    return raw_data"
   ]
  },
  {
   "cell_type": "code",
   "execution_count": 14,
   "id": "0b075f9e",
   "metadata": {},
   "outputs": [
    {
     "name": "stdout",
     "output_type": "stream",
     "text": [
      "('1. An instrument store gives a 10% discount to all students off the original cost of an instrument. During a back to school sale an additional 15% is taken off the discounted price. Julie, a student at the local high school, purchases a flute for $306. How much did it originally cost? 1. 325 2.375 3. 400 4. 408 5. 425', 'math')\n",
      "('If y(x-1)=z then x= 1. y-z 2. z/y + 1 3. y(z-1) 4. z(y-1) 5. 1-zy', 'math')\n",
      "('What is the molarity of a sodium hydroxide solution if 50.0 mL of the solution requires 38.6 mL of 0.0976 M HCl for titration?', 'chem')\n",
      "Len of stem data: 121\n",
      "('What is the step by step guide to invest in share market in india?', 'other')\n",
      "('What makes a good programmer great?', 'other')\n",
      "1004\n",
      "242\n"
     ]
    }
   ],
   "source": [
    "math_fn = '../data/math.txt'\n",
    "phys_fn = '../data/phys.txt'\n",
    "chem_fn = '../data/chem.txt'\n",
    "filenames = {'math': math_fn, 'phys': phys_fn, 'chem': chem_fn}\n",
    "raw_data = load_train_data(filenames)\n",
    "print(raw_data[0])\n",
    "print(raw_data[1])\n",
    "print(raw_data[-1])\n",
    "print(\"Len of stem data: {}\".format(len(raw_data)))\n",
    "random.shuffle(raw_data)\n",
    "other_data = helper.load_quora_data('../data/others.txt')\n",
    "print(other_data[0])\n",
    "print(other_data[-1])\n",
    "print(len(other_data))\n",
    "random.shuffle(other_data)\n",
    "raw_data += other_data[:len(raw_data)]\n",
    "random.shuffle(raw_data)\n",
    "print(len(raw_data))\n",
    "# Create FT dataset\n",
    "train_fn = '../data/stem.train'\n",
    "helper.create_ft_data(raw_data, train_fn)"
   ]
  },
  {
   "cell_type": "code",
   "execution_count": 18,
   "id": "ef45a451",
   "metadata": {},
   "outputs": [
    {
     "name": "stderr",
     "output_type": "stream",
     "text": [
      "Read 0M words\n",
      "Number of words:  1865\n",
      "Number of labels: 4\n",
      "Progress: 100.0% words/sec/thread:  449658 lr:  0.000000 avg.loss:  0.299530 ETA:   0h 0m 0s\n"
     ]
    }
   ],
   "source": [
    "model = fasttext.train_supervised(input=train_fn, lr=1.0, epoch=25, wordNgrams=2)\n",
    "model.save_model(\"../models/model_stem.bin\")"
   ]
  },
  {
   "cell_type": "markdown",
   "id": "34ac1196",
   "metadata": {},
   "source": [
    "## Test model"
   ]
  },
  {
   "cell_type": "code",
   "execution_count": 19,
   "id": "85586d70",
   "metadata": {},
   "outputs": [
    {
     "data": {
      "text/plain": [
       "(('__label__other',), array([0.9270876]))"
      ]
     },
     "execution_count": 19,
     "metadata": {},
     "output_type": "execute_result"
    }
   ],
   "source": [
    "model.predict(\"Which baking dish is best to bake a banana bread ?\")"
   ]
  },
  {
   "cell_type": "code",
   "execution_count": 22,
   "id": "99f98bd8",
   "metadata": {},
   "outputs": [
    {
     "data": {
      "text/plain": [
       "(('__label__phys', '__label__chem', '__label__other'),\n",
       " array([0.5274325 , 0.41930121, 0.04156993]))"
      ]
     },
     "execution_count": 22,
     "metadata": {},
     "output_type": "execute_result"
    }
   ],
   "source": [
    "model.predict(\"The circumference of a circle is 30. What is its area? 15pi 225pi 400pi 900pi 3000pi\", k=3)"
   ]
  },
  {
   "cell_type": "code",
   "execution_count": 23,
   "id": "af893742",
   "metadata": {},
   "outputs": [
    {
     "name": "stdout",
     "output_type": "stream",
     "text": [
      "(('__label__phys',), array([0.77218282]))\n"
     ]
    }
   ],
   "source": [
    "test = \"\"\"An intensity of 60 decibels is ___ times as intense as an intensity of 30 decibels. A. 2 B. 30 C. 60 D. 90 E. 1000\"\"\"\n",
    "model.predict(test)"
   ]
  },
  {
   "cell_type": "code",
   "execution_count": 24,
   "id": "cbe4a817",
   "metadata": {},
   "outputs": [
    {
     "name": "stdout",
     "output_type": "stream",
     "text": [
      "(('__label__chem',), array([0.74388403]))\n"
     ]
    }
   ],
   "source": [
    "test = \"In a flame test, the presence of copper in a solution is evident by what color flame? Is the flame w) red x) orange y) indigo z) blue-green\"\n",
    "model.predict(test)"
   ]
  },
  {
   "cell_type": "code",
   "execution_count": 25,
   "id": "3c6c6b81",
   "metadata": {},
   "outputs": [
    {
     "name": "stdout",
     "output_type": "stream",
     "text": [
      "(('__label__math',), array([0.99200779]))\n"
     ]
    }
   ],
   "source": [
    "test = \"Compute the largest root of x4 − x3 − 5x2 + 2x + 6.\"\n",
    "model.predict(test)"
   ]
  },
  {
   "cell_type": "markdown",
   "id": "65029267",
   "metadata": {},
   "source": [
    "## Test with more test examples"
   ]
  },
  {
   "cell_type": "code",
   "execution_count": 46,
   "id": "6c13d765",
   "metadata": {},
   "outputs": [],
   "source": [
    "true_labels = []\n",
    "preds = []\n",
    "probs = []\n",
    "\n",
    "for item in raw_data_test:\n",
    "    txt, label = item\n",
    "    pred = model.predict(txt)\n",
    "    true_labels.append(label)\n",
    "    preds.append(pred[0][0].replace('__label__', ''))\n",
    "    probs.append(pred[1][0])"
   ]
  },
  {
   "cell_type": "code",
   "execution_count": 47,
   "id": "843563c3",
   "metadata": {},
   "outputs": [
    {
     "data": {
      "text/plain": [
       "['phys', 'math', 'math', 'chem', 'phys']"
      ]
     },
     "execution_count": 47,
     "metadata": {},
     "output_type": "execute_result"
    }
   ],
   "source": [
    "true_labels[:5]"
   ]
  },
  {
   "cell_type": "code",
   "execution_count": 48,
   "id": "45460f85",
   "metadata": {},
   "outputs": [
    {
     "data": {
      "text/plain": [
       "['phys', 'phys', 'chem', 'chem', 'phys']"
      ]
     },
     "execution_count": 48,
     "metadata": {},
     "output_type": "execute_result"
    }
   ],
   "source": [
    "preds[:5]"
   ]
  },
  {
   "cell_type": "code",
   "execution_count": 49,
   "id": "b9e15955",
   "metadata": {},
   "outputs": [
    {
     "data": {
      "text/plain": [
       "[0.8561019897460938,\n",
       " 0.8574915528297424,\n",
       " 0.5558924078941345,\n",
       " 0.34417781233787537,\n",
       " 0.7424158453941345]"
      ]
     },
     "execution_count": 49,
     "metadata": {},
     "output_type": "execute_result"
    }
   ],
   "source": [
    "probs[:5]"
   ]
  },
  {
   "cell_type": "code",
   "execution_count": 50,
   "id": "3fdc48ab",
   "metadata": {},
   "outputs": [
    {
     "data": {
      "text/plain": [
       "['math', 'math', 'chem', 'phys', 'phys']"
      ]
     },
     "execution_count": 50,
     "metadata": {},
     "output_type": "execute_result"
    }
   ],
   "source": [
    "true_labels[-5:]"
   ]
  },
  {
   "cell_type": "code",
   "execution_count": 51,
   "id": "91da4a9d",
   "metadata": {},
   "outputs": [
    {
     "data": {
      "text/plain": [
       "['chem', 'phys', 'chem', 'phys', 'phys']"
      ]
     },
     "execution_count": 51,
     "metadata": {},
     "output_type": "execute_result"
    }
   ],
   "source": [
    "preds[-5:]"
   ]
  },
  {
   "cell_type": "markdown",
   "id": "e1342f20",
   "metadata": {},
   "source": [
    "## Confusion matrix\n",
    "\n",
    "`Cndarray of shape (n_classes, n_classes)\n",
    "Confusion matrix whose i-th row and j-th column entry indicates the number of samples with true label being i-th class and predicted label being j-th class.`\n",
    "\n",
    "https://scikit-learn.org/stable/modules/generated/sklearn.metrics.confusion_matrix.html"
   ]
  },
  {
   "cell_type": "code",
   "execution_count": 52,
   "id": "8beed6e5",
   "metadata": {},
   "outputs": [
    {
     "data": {
      "text/plain": [
       "array([[ 3,  6,  6,  1],\n",
       "       [ 0, 33,  0,  1],\n",
       "       [ 0,  1, 11,  1],\n",
       "       [ 0,  0,  0,  0]])"
      ]
     },
     "execution_count": 52,
     "metadata": {},
     "output_type": "execute_result"
    }
   ],
   "source": [
    "confusion_matrix(true_labels, preds, labels=[\"math\", \"phys\", \"chem\", \"other\"])"
   ]
  },
  {
   "cell_type": "markdown",
   "id": "d1e6a133",
   "metadata": {},
   "source": [
    "## Math tests\n",
    "\n",
    "https://www.maths.ox.ac.uk/study-here/undergraduate-study/practice-problems"
   ]
  },
  {
   "cell_type": "code",
   "execution_count": 57,
   "id": "acda6358",
   "metadata": {},
   "outputs": [
    {
     "data": {
      "text/plain": [
       "(('__label__math',), array([0.91819733]))"
      ]
     },
     "execution_count": 57,
     "metadata": {},
     "output_type": "execute_result"
    }
   ],
   "source": [
    "math_test = \"\"\"Find the radius and centre of the circle described by the equation\n",
    "x\n",
    "2 + y\n",
    "2 − 2x − 4y + 1 = 0\n",
    "by writing it in the form (x − a)\n",
    "2 + (y − b)\n",
    "2 = c\n",
    "2\n",
    "for suitable a, b and c.\"\"\".replace('\\n', ' ')\n",
    "\n",
    "model.predict(math_test)\n"
   ]
  },
  {
   "cell_type": "code",
   "execution_count": 58,
   "id": "3e975436",
   "metadata": {},
   "outputs": [
    {
     "data": {
      "text/plain": [
       "(('__label__math',), array([0.7456615]))"
      ]
     },
     "execution_count": 58,
     "metadata": {},
     "output_type": "execute_result"
    }
   ],
   "source": [
    "math_test = \"If y = x2 ln x, find d2y/dx2.\"\n",
    "model.predict(math_test)"
   ]
  },
  {
   "cell_type": "code",
   "execution_count": 59,
   "id": "0d7d8ac3",
   "metadata": {},
   "outputs": [
    {
     "data": {
      "text/plain": [
       "(('__label__math',), array([0.84309477]))"
      ]
     },
     "execution_count": 59,
     "metadata": {},
     "output_type": "execute_result"
    }
   ],
   "source": [
    "math_test = \"Given that eiθ = cos θ + i sin θ, prove that cos(A + B) = cos A cos B − sin A sin B.\"\n",
    "\n",
    "model.predict(math_test)"
   ]
  },
  {
   "cell_type": "markdown",
   "id": "2b006ede",
   "metadata": {},
   "source": [
    "## Physics tests\n",
    "\n",
    "https://www.physics.harvard.edu/undergrad/problems"
   ]
  },
  {
   "cell_type": "code",
   "execution_count": 62,
   "id": "4b98e380",
   "metadata": {},
   "outputs": [
    {
     "data": {
      "text/plain": [
       "(('__label__chem', '__label__phys'), array([0.51262999, 0.41493207]))"
      ]
     },
     "execution_count": 62,
     "metadata": {},
     "output_type": "execute_result"
    }
   ],
   "source": [
    "phys_test = \"\"\"Assuming that the index of refraction of water is 4/3 and that raindrops are spherical, show that the location of a rainbow is approximately 42◦ above the line from\n",
    "the sun to you. If you see a double rainbow, what is the angle of the second one?\n",
    "Even triple rainbows are possible, although they are difficult to see; where is the\n",
    "third one?\"\"\".replace('\\n', ' ')\n",
    "\n",
    "model.predict(phys_test, k=2)"
   ]
  },
  {
   "cell_type": "code",
   "execution_count": 63,
   "id": "11c9860a",
   "metadata": {},
   "outputs": [
    {
     "data": {
      "text/plain": [
       "(('__label__phys', '__label__chem'), array([0.80879223, 0.1318285 ]))"
      ]
     },
     "execution_count": 63,
     "metadata": {},
     "output_type": "execute_result"
    }
   ],
   "source": [
    "phys_test = \"\"\"A rubber band with initial length L has one end tied to a wall. At t = 0, the other\n",
    "end is pulled away from the wall at speed V (assume that the rubber band stretches\n",
    "uniformly). At the same time, an ant located at the end not attached to the wall\n",
    "begins to crawl toward the wall, with speed u relative to the band. Will the ant\n",
    "reach the wall? If so, how much time will it take?\"\"\".replace('\\n', ' ')\n",
    "\n",
    "model.predict(phys_test, k=2)"
   ]
  },
  {
   "cell_type": "code",
   "execution_count": 64,
   "id": "4ab45a3d",
   "metadata": {},
   "outputs": [
    {
     "data": {
      "text/plain": [
       "(('__label__phys', '__label__chem'), array([0.68361628, 0.28976056]))"
      ]
     },
     "execution_count": 64,
     "metadata": {},
     "output_type": "execute_result"
    }
   ],
   "source": [
    "phys_test = \"\"\"A ladder of length ` and uniform mass density stands on a frictionless floor and\n",
    "leans against a frictionless wall. It is initially held motionless, with its bottom end\n",
    "an infinitesimal distance from the wall. It is then released, whereupon the bottom\n",
    "end slides away from the wall, and the top end slides down the wall. When it loses\n",
    "contact with the wall, what is the horizontal component of the velocity of the center\n",
    "of mass?\"\"\"\n",
    "\n",
    "model.predict(phys_test.replace('\\n', ' '), k=2)"
   ]
  },
  {
   "cell_type": "code",
   "execution_count": 65,
   "id": "06d8d8a3",
   "metadata": {},
   "outputs": [
    {
     "data": {
      "text/plain": [
       "(('__label__phys', '__label__chem'), array([0.69385701, 0.28722027]))"
      ]
     },
     "execution_count": 65,
     "metadata": {},
     "output_type": "execute_result"
    }
   ],
   "source": [
    "phys_test = \"\"\"A tennis ball with (small) mass m2 sits on top of a basketball with (large)\n",
    "mass m1. The bottom of the basketball is a height h above the ground, and\n",
    "the bottom of the tennis ball is a height h + d above the ground. The balls\n",
    "are dropped. To what height does the tennis ball bounce?\"\"\"\n",
    "\n",
    "model.predict(phys_test.replace('\\n', ' '), k=2)"
   ]
  },
  {
   "cell_type": "markdown",
   "id": "cd4f2dce",
   "metadata": {},
   "source": [
    "## Chem problems\n",
    "\n",
    "https://en.wikipedia.org/wiki/List_of_unsolved_problems_in_chemistry"
   ]
  },
  {
   "cell_type": "code",
   "execution_count": 67,
   "id": "6c0df1e9",
   "metadata": {},
   "outputs": [
    {
     "name": "stdout",
     "output_type": "stream",
     "text": [
      "(('__label__other', '__label__chem'), array([0.76867008, 0.18265003]))\n",
      "(('__label__other', '__label__chem'), array([0.60215354, 0.39508656]))\n",
      "(('__label__other', '__label__chem'), array([0.83355796, 0.11246318]))\n",
      "(('__label__other', '__label__chem'), array([0.82129347, 0.13756821]))\n",
      "(('__label__phys', '__label__other'), array([0.48167232, 0.24768554]))\n"
     ]
    }
   ],
   "source": [
    "chems = [\"Can the transition temperature of high-temperature superconductors be brought up to room temperature?\", \n",
    "        \"What is the origin of homochirality in biomolecules?\", \n",
    "        \"Why are accelerated kinetics observed for some organic reactions at the water-organic interface?\", \n",
    "        \"Do replacement reactions of aryl diazonium salts (dediazotizations) predominantly undergo SN1 or a radical mechanism?\", \n",
    "        \"Is it possible to predict the secondary, tertiary and quaternary structure of a polypeptide sequence based solely on the sequence and environmental information? Inverse protein-folding problem: Is it possible to design a polypeptide sequence which will adopt a given structure under certain environmental conditions?[1][5] This has been achieved for several small globular proteins in recent years.[6] In 2020, it was announced that Google's AlphaFold, a neural network based on DeepMind artificial intelligence, is capable of predicting a protein's final shape based solely on its amino-acid chain with an accuracy of around 90% on a test sample of proteins used by the team.\"]\n",
    "\n",
    "for chem_test in chems:\n",
    "    print(model.predict(chem_test.replace('\\n', ' '), k=2))"
   ]
  },
  {
   "cell_type": "code",
   "execution_count": null,
   "id": "7980e2bd",
   "metadata": {},
   "outputs": [],
   "source": []
  }
 ],
 "metadata": {
  "kernelspec": {
   "display_name": "Python [conda env:hercule] *",
   "language": "python",
   "name": "conda-env-hercule-py"
  },
  "language_info": {
   "codemirror_mode": {
    "name": "ipython",
    "version": 3
   },
   "file_extension": ".py",
   "mimetype": "text/x-python",
   "name": "python",
   "nbconvert_exporter": "python",
   "pygments_lexer": "ipython3",
   "version": "3.7.13"
  }
 },
 "nbformat": 4,
 "nbformat_minor": 5
}
